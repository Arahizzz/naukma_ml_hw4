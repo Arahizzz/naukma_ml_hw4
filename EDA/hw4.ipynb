{
 "cells": [
  {
   "cell_type": "code",
   "execution_count": null,
   "id": "initial_id",
   "metadata": {},
   "outputs": [],
   "source": [
    "import matplotlib.pyplot as plt\n",
    "import numpy as np\n",
    "import pandas as pd\n",
    "import nltk\n",
    "import joblib\n",
    "import sys\n",
    "from sklearn.feature_extraction.text import TfidfVectorizer\n",
    "from pandarallel import pandarallel\n",
    "\n",
    "sys.path.append('../')\n",
    "pandarallel.initialize(progress_bar=True)"
   ]
  },
  {
   "cell_type": "code",
   "execution_count": null,
   "id": "58d99ad6b187596e",
   "metadata": {
    "collapsed": false,
    "jupyter": {
     "outputs_hidden": false
    }
   },
   "outputs": [],
   "source": [
    "train_df = pd.read_csv('../input/train.csv', usecols=['id', 'comment_text', 'toxic', 'severe_toxic', 'obscene', 'threat', 'insult', 'identity_hate'])\n",
    "test_df = pd.read_csv('../input/test.csv', usecols=['id', 'comment_text'])\n",
    "\n",
    "# Rename columns in the DataFrame\n",
    "columns_base = ['ID', 'Comment_Text']\n",
    "columns_type = ['Is_Toxic', 'Is_Severe_Toxic', 'Is_Obscene', 'Is_Threat', 'Is_Insult', 'Is_Identity_Hate']\n",
    "columns_all = columns_base + columns_type\n",
    "train_df.columns = columns_all\n",
    "test_df.columns = columns_base"
   ]
  },
  {
   "cell_type": "code",
   "execution_count": null,
   "id": "2b86dfd5708ffa2a",
   "metadata": {
    "collapsed": false,
    "jupyter": {
     "outputs_hidden": false
    }
   },
   "outputs": [],
   "source": [
    "# CONSTANTS\n",
    "NUM_OF_ROWS = 10_000\n",
    "RANDOM_SAMPLE = False\n",
    "USE_TEST_DATASET = False\n",
    "RUN_FULL_PCA = False"
   ]
  },
  {
   "cell_type": "markdown",
   "id": "d50251314266182e",
   "metadata": {
    "collapsed": false,
    "jupyter": {
     "outputs_hidden": false
    }
   },
   "source": [
    "# EDA"
   ]
  },
  {
   "cell_type": "code",
   "execution_count": null,
   "id": "8aa34835b69adf34",
   "metadata": {
    "collapsed": false,
    "jupyter": {
     "outputs_hidden": false
    }
   },
   "outputs": [],
   "source": [
    "train_df.head(5)"
   ]
  },
  {
   "cell_type": "code",
   "execution_count": null,
   "id": "9e5ccc222539bd37",
   "metadata": {
    "collapsed": false,
    "jupyter": {
     "outputs_hidden": false
    }
   },
   "outputs": [],
   "source": [
    "type_count = train_df[columns_type].sum()\n",
    "total_samples = len(train_df)\n",
    "type_percentage = (type_count / total_samples) * 100\n",
    "print(\"Size of train dataset:\")\n",
    "print(train_df.shape)\n",
    "\n",
    "rows_with_all_zeros = train_df[(train_df[columns_type] == 0).all(axis=1)]\n",
    "print(\"\\nCount of rows with all 0 types:\", len(rows_with_all_zeros))\n",
    "\n",
    "percentage_nonzero_types = 1 - (len(rows_with_all_zeros) / len(train_df))\n",
    "print(\"\\nPercentage of rows with at least one non-zero type: {:.2%}\".format(percentage_nonzero_types))\n",
    "\n",
    "class_summary = pd.DataFrame({'Count': type_count, 'Percentage': type_percentage})\n",
    "class_summary['Percentage'] = class_summary['Percentage'].map('{:.2f}%'.format)\n",
    "print(\"\\nSum for each type with added value, percentage and labels:\")\n",
    "print(class_summary)"
   ]
  },
  {
   "cell_type": "code",
   "execution_count": null,
   "id": "7d97cd7e651ac749",
   "metadata": {
    "collapsed": false,
    "jupyter": {
     "outputs_hidden": false
    }
   },
   "outputs": [],
   "source": [
    "comments_category = pd.DataFrame({\n",
    "    'Category': ['Good Comments', 'Bad Comments'],\n",
    "    'Count': [len(rows_with_all_zeros), len(train_df) - len(rows_with_all_zeros)]\n",
    "})\n",
    "\n",
    "plt.figure(figsize=(8, 8))\n",
    "plt.pie(comments_category['Count'], labels=comments_category['Category'], autopct='%1.2f%%', startangle=140)\n",
    "plt.title('Distribution of Good and Bad Comments')\n",
    "plt.show()"
   ]
  },
  {
   "cell_type": "code",
   "execution_count": null,
   "id": "82d144a383060d3a",
   "metadata": {
    "collapsed": false,
    "jupyter": {
     "outputs_hidden": false
    }
   },
   "outputs": [],
   "source": [
    "selected_rows_df = pd.DataFrame(columns=columns_all)\n",
    "type_counts = {}\n",
    "for text_type in columns_type:\n",
    "    mask = (train_df[text_type] == 1) & (train_df[columns_type].sum(axis=1) == 1)\n",
    "    count = mask.sum()\n",
    "    type_counts[text_type] = count\n",
    "    first_appearance = train_df[mask].head(1)\n",
    "    selected_rows_df = pd.concat([selected_rows_df, first_appearance], ignore_index=True)\n",
    "\n",
    "print(\"Count of comments where only a specific type has 1 and others are 0:\")\n",
    "for text_type, count in type_counts.items():\n",
    "    print(f\"{text_type}: {count}\")"
   ]
  },
  {
   "cell_type": "code",
   "execution_count": null,
   "id": "3e873a1c7b157735",
   "metadata": {
    "collapsed": false,
    "jupyter": {
     "outputs_hidden": false
    }
   },
   "outputs": [],
   "source": [
    "selected_rows_df = pd.DataFrame(columns=columns_all)\n",
    "for text_type in columns_type:\n",
    "    mask = (train_df[text_type] == 1) & (train_df[columns_type].sum(axis=1) == 1)\n",
    "    first_appearance = train_df[mask].head(1)\n",
    "    selected_rows_df = pd.concat([selected_rows_df, first_appearance], ignore_index=True)"
   ]
  },
  {
   "cell_type": "code",
   "execution_count": null,
   "id": "ff8e2024d0c593c",
   "metadata": {
    "collapsed": false,
    "jupyter": {
     "outputs_hidden": false
    }
   },
   "outputs": [],
   "source": [
    "with pd.option_context('display.max_colwidth', None):\n",
    "  display(selected_rows_df)"
   ]
  },
  {
   "cell_type": "markdown",
   "id": "4a5ee49df04fef9d",
   "metadata": {
    "collapsed": false,
    "jupyter": {
     "outputs_hidden": false
    }
   },
   "source": [
    "# Preprocessing"
   ]
  },
  {
   "cell_type": "code",
   "execution_count": null,
   "id": "56c95132e3d55db4",
   "metadata": {
    "collapsed": false,
    "jupyter": {
     "outputs_hidden": false
    }
   },
   "outputs": [],
   "source": [
    "# Filter all hate comments for model training\n",
    "hate_comments_df = train_df[train_df[columns_type].any(axis=1)].copy().reset_index(drop=True)\n",
    "\n",
    "# Filter the same amount of good comments for model training\n",
    "good_comments_df = train_df[train_df[columns_type].eq(0).all(axis=1)].sample(n=len(hate_comments_df),random_state=42).copy().reset_index(drop=True)\n",
    "\n",
    "# Concatenate 50% hate and 50% good comments and shuffle\n",
    "train_df_copy = pd.concat([hate_comments_df, good_comments_df], ignore_index=True).sample(frac=1, random_state=42).reset_index(drop=True)"
   ]
  },
  {
   "cell_type": "code",
   "execution_count": null,
   "id": "c1d12cf7cb908cff",
   "metadata": {
    "collapsed": false,
    "jupyter": {
     "outputs_hidden": false
    }
   },
   "outputs": [],
   "source": [
    "train_df_copy.shape"
   ]
  },
  {
   "cell_type": "code",
   "execution_count": null,
   "id": "9079e17b75eb58bf",
   "metadata": {
    "collapsed": false,
    "jupyter": {
     "outputs_hidden": false
    }
   },
   "outputs": [],
   "source": [
    "from src.preprocessing import do_preprocessing\n",
    "\n",
    "train_df_copy['Comment_Text_Preprocessed'] = train_df_copy[\"Comment_Text\"].parallel_apply(lambda d: \" \".join(do_preprocessing(d)))"
   ]
  },
  {
   "cell_type": "code",
   "execution_count": null,
   "id": "df1965d9b3b0fbc7",
   "metadata": {
    "collapsed": false,
    "jupyter": {
     "outputs_hidden": false
    }
   },
   "outputs": [],
   "source": [
    "X = train_df_copy['Comment_Text_Preprocessed']\n",
    "y = train_df_copy[columns_type]\n",
    "\n",
    "tfidf_vectorizer = TfidfVectorizer(max_features=10_000, max_df=0.9, smooth_idf=True, use_idf=True)\n",
    "tfidf_matrix = tfidf_vectorizer.fit_transform(X)\n",
    "feature_names = tfidf_vectorizer.get_feature_names_out()\n",
    "tfidf_df = pd.DataFrame(tfidf_matrix.toarray(), columns=feature_names)"
   ]
  },
  {
   "cell_type": "code",
   "execution_count": null,
   "id": "5e64ea74ff7ad998",
   "metadata": {
    "collapsed": false,
    "jupyter": {
     "outputs_hidden": false
    }
   },
   "outputs": [],
   "source": [
    "# Save tfidf_vectorizer\n",
    "joblib.dump(tfidf_vectorizer, './models/tfidf_vectorizer.joblib')\n",
    "\n",
    "# Load tfidf_vectorizer\n",
    "# tfidf_vectorizer = joblib.load('./models/tfidf_vectorizer.joblib')"
   ]
  },
  {
   "cell_type": "code",
   "execution_count": null,
   "id": "fef1bd0790ef081e",
   "metadata": {
    "collapsed": false,
    "jupyter": {
     "outputs_hidden": false
    }
   },
   "outputs": [],
   "source": [
    "train_df_copy_tfidf = pd.concat([train_df_copy, tfidf_df], axis=1)\n",
    "print(train_df_copy.shape)\n",
    "print(train_df_copy_tfidf.shape)\n",
    "print(f\"Unique words count: {len(feature_names)}\")"
   ]
  },
  {
   "cell_type": "code",
   "execution_count": null,
   "id": "2a2c3f478c4d8b69",
   "metadata": {
    "collapsed": false,
    "jupyter": {
     "outputs_hidden": false
    }
   },
   "outputs": [],
   "source": [
    "# Display the top 100 most popular words\n",
    "top_100_words = tfidf_df.sum().sort_values(ascending=False).head(100)\n",
    "print(top_100_words.to_string())"
   ]
  },
  {
   "cell_type": "code",
   "execution_count": null,
   "id": "3516c1a506468b72",
   "metadata": {
    "collapsed": false,
    "jupyter": {
     "outputs_hidden": false
    }
   },
   "outputs": [],
   "source": [
    "# Check for any non numeric values in the features dataframe\n",
    "tfidf_features = train_df_copy_tfidf[feature_names]\n",
    "numeric_df = tfidf_features.apply(pd.to_numeric, errors='coerce')\n",
    "nan_values = numeric_df.isna().sum().sum()\n",
    "\n",
    "if nan_values == 0:\n",
    "    print(\"All values in the DataFrame are numeric.\")\n",
    "else:\n",
    "    print(f\"There are {nan_values} non-numeric values in the DataFrame.\")"
   ]
  },
  {
   "cell_type": "markdown",
   "id": "36b4baa232b08526",
   "metadata": {
    "collapsed": false,
    "jupyter": {
     "outputs_hidden": false
    }
   },
   "source": [
    "# PCA"
   ]
  },
  {
   "cell_type": "code",
   "execution_count": null,
   "id": "2b361ca4776b43e6",
   "metadata": {
    "collapsed": false,
    "jupyter": {
     "outputs_hidden": false
    }
   },
   "outputs": [],
   "source": [
    "from sklearn.decomposition import PCA\n",
    "\n",
    "n_components = 2\n",
    "pca_2 = PCA(n_components=n_components)\n",
    "pca_result_2 = pca_2.fit_transform(tfidf_features)\n",
    "pca_result_df_2 = pd.DataFrame(data=pca_result_2, columns=[f'PCA_{i + 1}' for i in range(n_components)])"
   ]
  },
  {
   "cell_type": "code",
   "execution_count": null,
   "id": "beb432a474c1df9f",
   "metadata": {
    "collapsed": false,
    "jupyter": {
     "outputs_hidden": false
    }
   },
   "outputs": [],
   "source": [
    "plt.figure(figsize=(10, 6))\n",
    "plt.scatter(pca_result_2[:, 0], pca_result_2[:, 1], alpha=0.5)\n",
    "plt.title('2D Scatter Plot of PCA Components')\n",
    "plt.xlabel('Principal Component 1')\n",
    "plt.ylabel('Principal Component 2')\n",
    "plt.show()"
   ]
  },
  {
   "cell_type": "code",
   "execution_count": null,
   "id": "d55304f80e6e1815",
   "metadata": {
    "collapsed": false,
    "jupyter": {
     "outputs_hidden": false
    }
   },
   "outputs": [],
   "source": [
    "print(pca_2.explained_variance_ratio_)"
   ]
  },
  {
   "cell_type": "code",
   "execution_count": null,
   "id": "f2dcec2e1a3dc8f1",
   "metadata": {
    "collapsed": false,
    "jupyter": {
     "outputs_hidden": false
    }
   },
   "outputs": [],
   "source": [
    "n_components = 3\n",
    "pca_3 = PCA(n_components=n_components)\n",
    "pca_result_3 = pca_3.fit_transform(tfidf_features)"
   ]
  },
  {
   "cell_type": "code",
   "execution_count": null,
   "id": "9f4887f5650a53bb",
   "metadata": {
    "collapsed": false,
    "jupyter": {
     "outputs_hidden": false
    }
   },
   "outputs": [],
   "source": [
    "fig = plt.figure(figsize=(8, 6))\n",
    "ax = fig.add_subplot(111, projection='3d')\n",
    "ax.scatter(pca_result_3[:, 0], pca_result_3[:, 1], pca_result_3[:, 2], c='blue', marker='o', edgecolors='k')\n",
    "ax.set_xlabel('Principal Component 1')\n",
    "ax.set_ylabel('Principal Component 2')\n",
    "ax.set_zlabel('Principal Component 3')\n",
    "ax.set_title('3D PCA Plot')\n",
    "plt.show()"
   ]
  },
  {
   "cell_type": "code",
   "execution_count": null,
   "id": "7fe4bcdcc7a0e1b4",
   "metadata": {
    "collapsed": false,
    "jupyter": {
     "outputs_hidden": false
    }
   },
   "outputs": [],
   "source": [
    "print(pca_3.explained_variance_ratio_)"
   ]
  },
  {
   "cell_type": "code",
   "execution_count": null,
   "id": "1c4e054de96e8040",
   "metadata": {
    "collapsed": false,
    "jupyter": {
     "outputs_hidden": false
    }
   },
   "outputs": [],
   "source": [
    "# Calculate PCA with 0.95 explained variance\n",
    "# pca = PCA(0.95)\n",
    "# pca_result = pca.fit_transform(tfidf_features)\n",
    "# exp_var_pca = pca.explained_variance_ratio_\n",
    "# cum_sum_eigenvalues = np.cumsum(exp_var_pca)"
   ]
  },
  {
   "cell_type": "code",
   "execution_count": null,
   "id": "5362e5893cf7cf07",
   "metadata": {
    "collapsed": false,
    "jupyter": {
     "outputs_hidden": false
    }
   },
   "outputs": [],
   "source": [
    "# plt.bar(range(0, len(exp_var_pca)), exp_var_pca, alpha=0.5, align='center', label='Individual explained variance')\n",
    "# plt.step(range(0, len(cum_sum_eigenvalues)), cum_sum_eigenvalues, where='mid', label='Cumulative explained variance')\n",
    "# plt.ylabel('Explained variance ratio')\n",
    "# plt.xlabel('Principal component index')\n",
    "# plt.legend(loc='best')\n",
    "# plt.tight_layout()\n",
    "# \n",
    "# print(f\"Number of components for 0.95 explained variance: {len(cum_sum_eigenvalues)}\")\n",
    "# plt.show()"
   ]
  },
  {
   "cell_type": "markdown",
   "id": "af1cbe73ef868f9a",
   "metadata": {
    "collapsed": false,
    "jupyter": {
     "outputs_hidden": false
    }
   },
   "source": [
    "# Clustering"
   ]
  },
  {
   "cell_type": "code",
   "execution_count": null,
   "id": "6be3a5088163f159",
   "metadata": {
    "collapsed": false,
    "jupyter": {
     "outputs_hidden": false
    }
   },
   "outputs": [],
   "source": [
    "from sklearn.cluster import KMeans\n",
    "n_clusters = 7\n",
    "\n",
    "# Apply KMeans on UMAP data\n",
    "kmeans_pca = KMeans(n_clusters=n_clusters, random_state=42, n_init=10)\n",
    "kmeans_pca_labels = kmeans_pca.fit_predict(pca_result_2)\n",
    "labels = kmeans_pca_labels"
   ]
  },
  {
   "cell_type": "code",
   "execution_count": null,
   "id": "55c598cb02ea516c",
   "metadata": {
    "collapsed": false,
    "jupyter": {
     "outputs_hidden": false
    }
   },
   "outputs": [],
   "source": [
    "# Visualize the clustering results\n",
    "scatter = plt.scatter(pca_result_2[:, 0], pca_result_2[:, 1], c=kmeans_pca_labels, cmap='viridis', marker='o', edgecolors='k')\n",
    "plt.scatter(kmeans_pca.cluster_centers_[:, 0], kmeans_pca.cluster_centers_[:, 1], s=200, c='red', marker='X',label='Centroids')\n",
    "plt.xlabel('PCA Component 1')\n",
    "plt.ylabel('PCA Component 2')\n",
    "plt.title('K-Means Clustering')\n",
    "plt.legend()\n",
    "\n",
    "unique_labels = set(labels)\n",
    "print(\"Number of clusters:\", len(unique_labels) - (1 if -1 in unique_labels else 0))\n",
    "for cluster_label in unique_labels:\n",
    "    if cluster_label == -1:\n",
    "        print(f\"Noise points: {sum(labels == cluster_label)}\")\n",
    "    else:\n",
    "        print(f\"Cluster {cluster_label}: {sum(labels == cluster_label)} points\")\n",
    "\n",
    "plt.colorbar(scatter)\n",
    "plt.show()"
   ]
  },
  {
   "cell_type": "markdown",
   "id": "9d3a3857b09f9c8e",
   "metadata": {
    "collapsed": false,
    "jupyter": {
     "outputs_hidden": false
    }
   },
   "source": [
    "# Model Training"
   ]
  },
  {
   "cell_type": "code",
   "execution_count": null,
   "id": "df5997d2509a4986",
   "metadata": {
    "collapsed": false,
    "jupyter": {
     "outputs_hidden": false
    }
   },
   "outputs": [],
   "source": [
    "X.head()"
   ]
  },
  {
   "cell_type": "code",
   "execution_count": null,
   "id": "cd0d9d14fc03c0d5",
   "metadata": {
    "collapsed": false,
    "jupyter": {
     "outputs_hidden": false
    }
   },
   "outputs": [],
   "source": [
    "y.head()"
   ]
  },
  {
   "cell_type": "code",
   "execution_count": null,
   "id": "e04e629ed5174659",
   "metadata": {
    "collapsed": false,
    "jupyter": {
     "outputs_hidden": false
    }
   },
   "outputs": [],
   "source": [
    "class_labels = ['Toxic', 'Severe_Toxic', 'Obscene', 'Threat', 'Insult', 'Identity_Hate']"
   ]
  },
  {
   "cell_type": "code",
   "execution_count": null,
   "id": "ad93ee2f718f4235",
   "metadata": {
    "collapsed": false,
    "jupyter": {
     "outputs_hidden": false
    }
   },
   "outputs": [],
   "source": [
    "# Split Dataset\n",
    "from sklearn.model_selection import train_test_split\n",
    "X_train, X_test, y_train, y_test = train_test_split(X, y, test_size=0.2, random_state=101)\n",
    "\n",
    "X_train_tfidf = tfidf_vectorizer.transform(X_train)\n",
    "X_test_tfidf = tfidf_vectorizer.transform(X_test)"
   ]
  },
  {
   "cell_type": "code",
   "execution_count": null,
   "id": "1a202d8e087fb050",
   "metadata": {
    "collapsed": false,
    "jupyter": {
     "outputs_hidden": false
    }
   },
   "outputs": [],
   "source": [
    "X_test_tfidf.shape"
   ]
  },
  {
   "cell_type": "code",
   "execution_count": null,
   "id": "8e76aceaab8694e5",
   "metadata": {
    "collapsed": false,
    "jupyter": {
     "outputs_hidden": false
    }
   },
   "outputs": [],
   "source": [
    "from sklearn.multioutput import MultiOutputClassifier\n",
    "from sklearn.linear_model import LogisticRegression\n",
    "\n",
    "lr = LogisticRegression(max_iter=1000)\n",
    "clf = MultiOutputClassifier(lr)\n",
    "clf = clf.fit(X_train_tfidf, y_train)"
   ]
  },
  {
   "cell_type": "code",
   "execution_count": null,
   "id": "fcbf1ae0a89d156f",
   "metadata": {
    "collapsed": false,
    "jupyter": {
     "outputs_hidden": false
    }
   },
   "outputs": [],
   "source": [
    "# Save model\n",
    "joblib.dump(clf, './models/linear_regression_classifier_model.joblib')\n",
    "\n",
    "# Load model\n",
    "# clf = joblib.load('./models/linear_regression_classifier_model.joblib')"
   ]
  },
  {
   "cell_type": "code",
   "execution_count": null,
   "id": "ca079d6ee5065ed",
   "metadata": {
    "collapsed": false,
    "jupyter": {
     "outputs_hidden": false
    }
   },
   "outputs": [],
   "source": [
    "# Get the class labels for each classifier\n",
    "for i, estimator in enumerate(clf.estimators_):\n",
    "    print(f\"Classifier {i + 1} Class Labels:\", estimator.classes_)"
   ]
  },
  {
   "cell_type": "code",
   "execution_count": null,
   "id": "6b064e0ce0e047ee",
   "metadata": {
    "collapsed": false,
    "jupyter": {
     "outputs_hidden": false
    }
   },
   "outputs": [],
   "source": [
    "prediction = clf.predict(X_test_tfidf)"
   ]
  },
  {
   "cell_type": "code",
   "execution_count": null,
   "id": "133e1dc14ea21c7",
   "metadata": {
    "collapsed": false,
    "jupyter": {
     "outputs_hidden": false
    }
   },
   "outputs": [],
   "source": [
    "from sklearn.metrics import accuracy_score\n",
    "print('Accuracy Score: ', accuracy_score(y_test, prediction))"
   ]
  },
  {
   "cell_type": "code",
   "execution_count": null,
   "id": "35b4671eac22f76e",
   "metadata": {
    "collapsed": false,
    "jupyter": {
     "outputs_hidden": false
    }
   },
   "outputs": [],
   "source": [
    "from sklearn.metrics import hamming_loss\n",
    "print('Hamming Loss: ', round(hamming_loss(y_test, prediction),2))"
   ]
  },
  {
   "cell_type": "code",
   "execution_count": null,
   "id": "68a39f0939cfb687",
   "metadata": {
    "collapsed": false,
    "jupyter": {
     "outputs_hidden": false
    }
   },
   "outputs": [],
   "source": [
    "sample_text = [\"some toxic text\"]\n",
    "sample_text_tfidf = tfidf_vectorizer.transform(sample_text)\n",
    "sample_text_pred_prob = clf.predict_proba(sample_text_tfidf)\n",
    "prediction_df = pd.DataFrame()\n",
    "for i, output_name in enumerate(class_labels):\n",
    "    prediction_df[output_name] = sample_text_pred_prob[i][:, 1]"
   ]
  },
  {
   "cell_type": "code",
   "execution_count": null,
   "id": "553e7df47e244513",
   "metadata": {
    "collapsed": false,
    "jupyter": {
     "outputs_hidden": false
    }
   },
   "outputs": [],
   "source": [
    "prediction_df"
   ]
  },
  {
   "cell_type": "code",
   "execution_count": 41,
   "id": "6594956b67a43b52",
   "metadata": {
    "collapsed": false,
    "jupyter": {
     "outputs_hidden": false
    }
   },
   "outputs": [],
   "source": [
    "from sklearn.ensemble import RandomForestClassifier\n",
    "from sklearn.multioutput import MultiOutputClassifier\n",
    "from sklearn.metrics import accuracy_score, classification_report\n",
    "\n",
    "base_classifier = RandomForestClassifier(random_state=42)\n",
    "multi_output_classifier = MultiOutputClassifier(base_classifier)\n",
    "multi_output_classifier = multi_output_classifier.fit(X_train_tfidf, y_train)"
   ]
  },
  {
   "cell_type": "code",
   "execution_count": 42,
   "id": "2501ff45280a16e4",
   "metadata": {
    "collapsed": false,
    "jupyter": {
     "outputs_hidden": false
    }
   },
   "outputs": [
    {
     "data": {
      "text/plain": [
       "['./models/random_forrest_classifier_model.joblib']"
      ]
     },
     "execution_count": 42,
     "metadata": {},
     "output_type": "execute_result"
    }
   ],
   "source": [
    "# Save model\n",
    "joblib.dump(multi_output_classifier, './models/random_forrest_classifier_model.joblib')\n",
    "\n",
    "# Load model\n",
    "# multi_output_classifier = joblib.load('./models/random_forrest_classifier_model.joblib')"
   ]
  },
  {
   "cell_type": "code",
   "execution_count": 43,
   "id": "fd947474e8e9a9",
   "metadata": {
    "collapsed": false,
    "jupyter": {
     "outputs_hidden": false
    }
   },
   "outputs": [
    {
     "name": "stdout",
     "output_type": "stream",
     "text": [
      "Accuracy: 0.6400616332819723\n",
      "Classification Report:\n",
      "              precision    recall  f1-score   support\n",
      "\n",
      "           0       0.89      0.79      0.84      3100\n",
      "           1       0.33      0.05      0.08       311\n",
      "           2       0.86      0.77      0.81      1652\n",
      "           3       0.77      0.09      0.17       106\n",
      "           4       0.74      0.61      0.67      1550\n",
      "           5       0.63      0.21      0.31       293\n",
      "\n",
      "   micro avg       0.84      0.68      0.75      7012\n",
      "   macro avg       0.70      0.42      0.48      7012\n",
      "weighted avg       0.81      0.68      0.73      7012\n",
      " samples avg       0.35      0.33      0.33      7012\n",
      "\n"
     ]
    },
    {
     "name": "stderr",
     "output_type": "stream",
     "text": [
      "/data/naukma_ml_hw4/.venv/lib64/python3.9/site-packages/sklearn/metrics/_classification.py:1471: UndefinedMetricWarning: Precision and F-score are ill-defined and being set to 0.0 in samples with no predicted labels. Use `zero_division` parameter to control this behavior.\n",
      "  _warn_prf(average, modifier, msg_start, len(result))\n",
      "/data/naukma_ml_hw4/.venv/lib64/python3.9/site-packages/sklearn/metrics/_classification.py:1471: UndefinedMetricWarning: Recall and F-score are ill-defined and being set to 0.0 in samples with no true labels. Use `zero_division` parameter to control this behavior.\n",
      "  _warn_prf(average, modifier, msg_start, len(result))\n"
     ]
    }
   ],
   "source": [
    "y_pred = multi_output_classifier.predict(X_test_tfidf)\n",
    "\n",
    "# Evaluate the model\n",
    "accuracy = accuracy_score(y_test, y_pred)\n",
    "classification_report_str = classification_report(y_test, y_pred)\n",
    "\n",
    "print(f\"Accuracy: {accuracy}\")\n",
    "print(\"Classification Report:\")\n",
    "print(classification_report_str)"
   ]
  },
  {
   "cell_type": "code",
   "execution_count": 44,
   "id": "2533d5112355e4bb",
   "metadata": {
    "collapsed": false,
    "jupyter": {
     "outputs_hidden": false
    }
   },
   "outputs": [],
   "source": [
    "prediction_probabilities = multi_output_classifier.predict_proba(X_test_tfidf)\n",
    "prediction_df = pd.DataFrame()\n",
    "for i, output_name in enumerate(class_labels):\n",
    "    prediction_df[output_name] = prediction_probabilities[i][:, 1]"
   ]
  },
  {
   "cell_type": "code",
   "execution_count": 45,
   "id": "7b40ee47e4d2977b",
   "metadata": {
    "collapsed": false,
    "jupyter": {
     "outputs_hidden": false
    }
   },
   "outputs": [
    {
     "data": {
      "text/html": [
       "<div>\n",
       "<style scoped>\n",
       "    .dataframe tbody tr th:only-of-type {\n",
       "        vertical-align: middle;\n",
       "    }\n",
       "\n",
       "    .dataframe tbody tr th {\n",
       "        vertical-align: top;\n",
       "    }\n",
       "\n",
       "    .dataframe thead th {\n",
       "        text-align: right;\n",
       "    }\n",
       "</style>\n",
       "<table border=\"1\" class=\"dataframe\">\n",
       "  <thead>\n",
       "    <tr style=\"text-align: right;\">\n",
       "      <th></th>\n",
       "      <th>Toxic</th>\n",
       "      <th>Severe_Toxic</th>\n",
       "      <th>Obscene</th>\n",
       "      <th>Threat</th>\n",
       "      <th>Insult</th>\n",
       "      <th>Identity_Hate</th>\n",
       "    </tr>\n",
       "  </thead>\n",
       "  <tbody>\n",
       "    <tr>\n",
       "      <th>0</th>\n",
       "      <td>1.000000</td>\n",
       "      <td>0.158024</td>\n",
       "      <td>0.990000</td>\n",
       "      <td>0.00</td>\n",
       "      <td>0.910000</td>\n",
       "      <td>0.380000</td>\n",
       "    </tr>\n",
       "    <tr>\n",
       "      <th>1</th>\n",
       "      <td>0.780000</td>\n",
       "      <td>0.100000</td>\n",
       "      <td>0.603333</td>\n",
       "      <td>0.01</td>\n",
       "      <td>0.570000</td>\n",
       "      <td>0.090000</td>\n",
       "    </tr>\n",
       "    <tr>\n",
       "      <th>2</th>\n",
       "      <td>0.370000</td>\n",
       "      <td>0.000000</td>\n",
       "      <td>0.030000</td>\n",
       "      <td>0.02</td>\n",
       "      <td>0.020000</td>\n",
       "      <td>0.070000</td>\n",
       "    </tr>\n",
       "    <tr>\n",
       "      <th>3</th>\n",
       "      <td>0.099287</td>\n",
       "      <td>0.000130</td>\n",
       "      <td>0.042059</td>\n",
       "      <td>0.00</td>\n",
       "      <td>0.044141</td>\n",
       "      <td>0.000707</td>\n",
       "    </tr>\n",
       "    <tr>\n",
       "      <th>4</th>\n",
       "      <td>0.900000</td>\n",
       "      <td>0.110000</td>\n",
       "      <td>0.840000</td>\n",
       "      <td>0.03</td>\n",
       "      <td>0.613333</td>\n",
       "      <td>0.060000</td>\n",
       "    </tr>\n",
       "  </tbody>\n",
       "</table>\n",
       "</div>"
      ],
      "text/plain": [
       "      Toxic  Severe_Toxic   Obscene  Threat    Insult  Identity_Hate\n",
       "0  1.000000      0.158024  0.990000    0.00  0.910000       0.380000\n",
       "1  0.780000      0.100000  0.603333    0.01  0.570000       0.090000\n",
       "2  0.370000      0.000000  0.030000    0.02  0.020000       0.070000\n",
       "3  0.099287      0.000130  0.042059    0.00  0.044141       0.000707\n",
       "4  0.900000      0.110000  0.840000    0.03  0.613333       0.060000"
      ]
     },
     "execution_count": 45,
     "metadata": {},
     "output_type": "execute_result"
    }
   ],
   "source": [
    "prediction_df.head()"
   ]
  },
  {
   "cell_type": "code",
   "execution_count": 46,
   "id": "60870f2374ea143d",
   "metadata": {
    "collapsed": false,
    "jupyter": {
     "outputs_hidden": false
    }
   },
   "outputs": [],
   "source": [
    "sample_text = [\"some toxic text\"]\n",
    "sample_text_tfidf = tfidf_vectorizer.transform(sample_text)\n",
    "sample_text_pred_prob = multi_output_classifier.predict_proba(sample_text_tfidf)\n",
    "prediction_df = pd.DataFrame()\n",
    "for i, output_name in enumerate(class_labels):\n",
    "    prediction_df[output_name] = sample_text_pred_prob[i][:, 1]"
   ]
  },
  {
   "cell_type": "code",
   "execution_count": 47,
   "id": "6e5fa1c982bf45c",
   "metadata": {
    "collapsed": false,
    "jupyter": {
     "outputs_hidden": false
    }
   },
   "outputs": [
    {
     "data": {
      "text/html": [
       "<div>\n",
       "<style scoped>\n",
       "    .dataframe tbody tr th:only-of-type {\n",
       "        vertical-align: middle;\n",
       "    }\n",
       "\n",
       "    .dataframe tbody tr th {\n",
       "        vertical-align: top;\n",
       "    }\n",
       "\n",
       "    .dataframe thead th {\n",
       "        text-align: right;\n",
       "    }\n",
       "</style>\n",
       "<table border=\"1\" class=\"dataframe\">\n",
       "  <thead>\n",
       "    <tr style=\"text-align: right;\">\n",
       "      <th></th>\n",
       "      <th>Toxic</th>\n",
       "      <th>Severe_Toxic</th>\n",
       "      <th>Obscene</th>\n",
       "      <th>Threat</th>\n",
       "      <th>Insult</th>\n",
       "      <th>Identity_Hate</th>\n",
       "    </tr>\n",
       "  </thead>\n",
       "  <tbody>\n",
       "    <tr>\n",
       "      <th>0</th>\n",
       "      <td>0.112715</td>\n",
       "      <td>0.000984</td>\n",
       "      <td>0.10756</td>\n",
       "      <td>0.0</td>\n",
       "      <td>0.009571</td>\n",
       "      <td>0.001424</td>\n",
       "    </tr>\n",
       "  </tbody>\n",
       "</table>\n",
       "</div>"
      ],
      "text/plain": [
       "      Toxic  Severe_Toxic  Obscene  Threat    Insult  Identity_Hate\n",
       "0  0.112715      0.000984  0.10756     0.0  0.009571       0.001424"
      ]
     },
     "execution_count": 47,
     "metadata": {},
     "output_type": "execute_result"
    }
   ],
   "source": [
    "prediction_df"
   ]
  },
  {
   "cell_type": "markdown",
   "id": "5961a0ea29578590",
   "metadata": {
    "collapsed": false,
    "jupyter": {
     "outputs_hidden": false
    }
   },
   "source": [
    "# Prediction"
   ]
  },
  {
   "cell_type": "code",
   "execution_count": 48,
   "id": "889aa39a7d6a7224",
   "metadata": {
    "collapsed": false,
    "jupyter": {
     "outputs_hidden": false
    }
   },
   "outputs": [],
   "source": [
    "columns_submission = ['id','toxic','severe_toxic','obscene','threat','insult','identity_hate']"
   ]
  },
  {
   "cell_type": "code",
   "execution_count": 49,
   "id": "cacb98ac1c903795",
   "metadata": {
    "collapsed": false,
    "jupyter": {
     "outputs_hidden": false
    }
   },
   "outputs": [
    {
     "data": {
      "text/html": [
       "<div>\n",
       "<style scoped>\n",
       "    .dataframe tbody tr th:only-of-type {\n",
       "        vertical-align: middle;\n",
       "    }\n",
       "\n",
       "    .dataframe tbody tr th {\n",
       "        vertical-align: top;\n",
       "    }\n",
       "\n",
       "    .dataframe thead th {\n",
       "        text-align: right;\n",
       "    }\n",
       "</style>\n",
       "<table border=\"1\" class=\"dataframe\">\n",
       "  <thead>\n",
       "    <tr style=\"text-align: right;\">\n",
       "      <th></th>\n",
       "      <th>ID</th>\n",
       "      <th>Comment_Text</th>\n",
       "    </tr>\n",
       "  </thead>\n",
       "  <tbody>\n",
       "    <tr>\n",
       "      <th>0</th>\n",
       "      <td>0001ea8717f6de06</td>\n",
       "      <td>Thank you for understanding. I think very high...</td>\n",
       "    </tr>\n",
       "    <tr>\n",
       "      <th>1</th>\n",
       "      <td>000247e83dcc1211</td>\n",
       "      <td>:Dear god this site is horrible.</td>\n",
       "    </tr>\n",
       "    <tr>\n",
       "      <th>2</th>\n",
       "      <td>0002f87b16116a7f</td>\n",
       "      <td>\"::: Somebody will invariably try to add Relig...</td>\n",
       "    </tr>\n",
       "    <tr>\n",
       "      <th>3</th>\n",
       "      <td>0003e1cccfd5a40a</td>\n",
       "      <td>\" \\n\\n It says it right there that it IS a typ...</td>\n",
       "    </tr>\n",
       "    <tr>\n",
       "      <th>4</th>\n",
       "      <td>00059ace3e3e9a53</td>\n",
       "      <td>\" \\n\\n == Before adding a new product to the l...</td>\n",
       "    </tr>\n",
       "  </tbody>\n",
       "</table>\n",
       "</div>"
      ],
      "text/plain": [
       "                 ID                                       Comment_Text\n",
       "0  0001ea8717f6de06  Thank you for understanding. I think very high...\n",
       "1  000247e83dcc1211                   :Dear god this site is horrible.\n",
       "2  0002f87b16116a7f  \"::: Somebody will invariably try to add Relig...\n",
       "3  0003e1cccfd5a40a  \" \\n\\n It says it right there that it IS a typ...\n",
       "4  00059ace3e3e9a53  \" \\n\\n == Before adding a new product to the l..."
      ]
     },
     "execution_count": 49,
     "metadata": {},
     "output_type": "execute_result"
    }
   ],
   "source": [
    "test_df.head()"
   ]
  },
  {
   "cell_type": "code",
   "execution_count": 50,
   "id": "db4e5ee06b67fc4a",
   "metadata": {
    "collapsed": false,
    "jupyter": {
     "outputs_hidden": false
    }
   },
   "outputs": [
    {
     "data": {
      "text/html": [
       "<div>\n",
       "<style scoped>\n",
       "    .dataframe tbody tr th:only-of-type {\n",
       "        vertical-align: middle;\n",
       "    }\n",
       "\n",
       "    .dataframe tbody tr th {\n",
       "        vertical-align: top;\n",
       "    }\n",
       "\n",
       "    .dataframe thead th {\n",
       "        text-align: right;\n",
       "    }\n",
       "</style>\n",
       "<table border=\"1\" class=\"dataframe\">\n",
       "  <thead>\n",
       "    <tr style=\"text-align: right;\">\n",
       "      <th></th>\n",
       "      <th>ID</th>\n",
       "      <th>Comment_Text</th>\n",
       "    </tr>\n",
       "  </thead>\n",
       "  <tbody>\n",
       "    <tr>\n",
       "      <th>28</th>\n",
       "      <td>00177176f33f587e</td>\n",
       "      <td>== Can you work your magic? == \\n\\n Hi.  I was...</td>\n",
       "    </tr>\n",
       "  </tbody>\n",
       "</table>\n",
       "</div>"
      ],
      "text/plain": [
       "                  ID                                       Comment_Text\n",
       "28  00177176f33f587e  == Can you work your magic? == \\n\\n Hi.  I was..."
      ]
     },
     "execution_count": 50,
     "metadata": {},
     "output_type": "execute_result"
    }
   ],
   "source": [
    "# Good comment\n",
    "test_df.loc[test_df['ID'] == '00177176f33f587e']"
   ]
  },
  {
   "cell_type": "code",
   "execution_count": 51,
   "id": "9921425fbca92ec9",
   "metadata": {
    "collapsed": false,
    "jupyter": {
     "outputs_hidden": false
    }
   },
   "outputs": [
    {
     "data": {
      "text/html": [
       "<div>\n",
       "<style scoped>\n",
       "    .dataframe tbody tr th:only-of-type {\n",
       "        vertical-align: middle;\n",
       "    }\n",
       "\n",
       "    .dataframe tbody tr th {\n",
       "        vertical-align: top;\n",
       "    }\n",
       "\n",
       "    .dataframe thead th {\n",
       "        text-align: right;\n",
       "    }\n",
       "</style>\n",
       "<table border=\"1\" class=\"dataframe\">\n",
       "  <thead>\n",
       "    <tr style=\"text-align: right;\">\n",
       "      <th></th>\n",
       "      <th>ID</th>\n",
       "      <th>Comment_Text</th>\n",
       "    </tr>\n",
       "  </thead>\n",
       "  <tbody>\n",
       "    <tr>\n",
       "      <th>24</th>\n",
       "      <td>0013fed3aeae76b7</td>\n",
       "      <td>DJ Robinson is gay as hell! he sucks his dick ...</td>\n",
       "    </tr>\n",
       "  </tbody>\n",
       "</table>\n",
       "</div>"
      ],
      "text/plain": [
       "                  ID                                       Comment_Text\n",
       "24  0013fed3aeae76b7  DJ Robinson is gay as hell! he sucks his dick ..."
      ]
     },
     "execution_count": 51,
     "metadata": {},
     "output_type": "execute_result"
    }
   ],
   "source": [
    "# Bad comment\n",
    "test_df.loc[test_df['ID'] == '0013fed3aeae76b7']"
   ]
  },
  {
   "cell_type": "code",
   "execution_count": 52,
   "id": "1cb4e458bc837d4c",
   "metadata": {
    "collapsed": false,
    "jupyter": {
     "outputs_hidden": false
    }
   },
   "outputs": [],
   "source": [
    "test_text_tfidf = tfidf_vectorizer.transform(test_df['Comment_Text'])"
   ]
  },
  {
   "cell_type": "code",
   "execution_count": 53,
   "id": "50736bf3dbbed899",
   "metadata": {
    "collapsed": false,
    "jupyter": {
     "outputs_hidden": false
    }
   },
   "outputs": [],
   "source": [
    "test_text_tfidf_prob = clf.predict_proba(test_text_tfidf)\n",
    "prediction_df = pd.DataFrame()\n",
    "for i, output_name in enumerate(class_labels):\n",
    "    prediction_df[output_name] = test_text_tfidf_prob[i][:, 1]"
   ]
  },
  {
   "cell_type": "code",
   "execution_count": 54,
   "id": "d67096e7fadab16",
   "metadata": {
    "collapsed": false,
    "jupyter": {
     "outputs_hidden": false
    }
   },
   "outputs": [
    {
     "data": {
      "text/html": [
       "<div>\n",
       "<style scoped>\n",
       "    .dataframe tbody tr th:only-of-type {\n",
       "        vertical-align: middle;\n",
       "    }\n",
       "\n",
       "    .dataframe tbody tr th {\n",
       "        vertical-align: top;\n",
       "    }\n",
       "\n",
       "    .dataframe thead th {\n",
       "        text-align: right;\n",
       "    }\n",
       "</style>\n",
       "<table border=\"1\" class=\"dataframe\">\n",
       "  <thead>\n",
       "    <tr style=\"text-align: right;\">\n",
       "      <th></th>\n",
       "      <th>id</th>\n",
       "      <th>toxic</th>\n",
       "      <th>severe_toxic</th>\n",
       "      <th>obscene</th>\n",
       "      <th>threat</th>\n",
       "      <th>insult</th>\n",
       "      <th>identity_hate</th>\n",
       "    </tr>\n",
       "  </thead>\n",
       "  <tbody>\n",
       "    <tr>\n",
       "      <th>0</th>\n",
       "      <td>0001ea8717f6de06</td>\n",
       "      <td>0.209416</td>\n",
       "      <td>0.009946</td>\n",
       "      <td>0.037403</td>\n",
       "      <td>0.005073</td>\n",
       "      <td>0.050169</td>\n",
       "      <td>0.011861</td>\n",
       "    </tr>\n",
       "    <tr>\n",
       "      <th>1</th>\n",
       "      <td>000247e83dcc1211</td>\n",
       "      <td>0.764104</td>\n",
       "      <td>0.022871</td>\n",
       "      <td>0.195590</td>\n",
       "      <td>0.010782</td>\n",
       "      <td>0.284611</td>\n",
       "      <td>0.024403</td>\n",
       "    </tr>\n",
       "    <tr>\n",
       "      <th>2</th>\n",
       "      <td>0002f87b16116a7f</td>\n",
       "      <td>0.460721</td>\n",
       "      <td>0.010187</td>\n",
       "      <td>0.088454</td>\n",
       "      <td>0.007393</td>\n",
       "      <td>0.089566</td>\n",
       "      <td>0.026021</td>\n",
       "    </tr>\n",
       "    <tr>\n",
       "      <th>3</th>\n",
       "      <td>0003e1cccfd5a40a</td>\n",
       "      <td>0.097302</td>\n",
       "      <td>0.011725</td>\n",
       "      <td>0.083250</td>\n",
       "      <td>0.006446</td>\n",
       "      <td>0.073538</td>\n",
       "      <td>0.013481</td>\n",
       "    </tr>\n",
       "    <tr>\n",
       "      <th>4</th>\n",
       "      <td>00059ace3e3e9a53</td>\n",
       "      <td>0.069654</td>\n",
       "      <td>0.007066</td>\n",
       "      <td>0.049400</td>\n",
       "      <td>0.004337</td>\n",
       "      <td>0.046697</td>\n",
       "      <td>0.007273</td>\n",
       "    </tr>\n",
       "  </tbody>\n",
       "</table>\n",
       "</div>"
      ],
      "text/plain": [
       "                 id     toxic  severe_toxic   obscene    threat    insult  \\\n",
       "0  0001ea8717f6de06  0.209416      0.009946  0.037403  0.005073  0.050169   \n",
       "1  000247e83dcc1211  0.764104      0.022871  0.195590  0.010782  0.284611   \n",
       "2  0002f87b16116a7f  0.460721      0.010187  0.088454  0.007393  0.089566   \n",
       "3  0003e1cccfd5a40a  0.097302      0.011725  0.083250  0.006446  0.073538   \n",
       "4  00059ace3e3e9a53  0.069654      0.007066  0.049400  0.004337  0.046697   \n",
       "\n",
       "   identity_hate  \n",
       "0       0.011861  \n",
       "1       0.024403  \n",
       "2       0.026021  \n",
       "3       0.013481  \n",
       "4       0.007273  "
      ]
     },
     "execution_count": 54,
     "metadata": {},
     "output_type": "execute_result"
    }
   ],
   "source": [
    "result_df = pd.concat([test_df['ID'], prediction_df], axis=1)\n",
    "result_df.columns = columns_submission\n",
    "result_df.to_csv('../output/submission.csv', index=False)\n",
    "result_df.head()"
   ]
  },
  {
   "cell_type": "code",
   "execution_count": 55,
   "id": "24659563bc8ca946",
   "metadata": {
    "collapsed": false,
    "jupyter": {
     "outputs_hidden": false
    }
   },
   "outputs": [],
   "source": [
    "test_text_tfidf_prob = multi_output_classifier.predict_proba(test_text_tfidf)\n",
    "prediction_df = pd.DataFrame()\n",
    "for i, output_name in enumerate(class_labels):\n",
    "    prediction_df[output_name] = test_text_tfidf_prob[i][:, 1]"
   ]
  },
  {
   "cell_type": "code",
   "execution_count": 56,
   "id": "676d3920b5216dce",
   "metadata": {
    "collapsed": false,
    "jupyter": {
     "outputs_hidden": false
    }
   },
   "outputs": [
    {
     "data": {
      "text/html": [
       "<div>\n",
       "<style scoped>\n",
       "    .dataframe tbody tr th:only-of-type {\n",
       "        vertical-align: middle;\n",
       "    }\n",
       "\n",
       "    .dataframe tbody tr th {\n",
       "        vertical-align: top;\n",
       "    }\n",
       "\n",
       "    .dataframe thead th {\n",
       "        text-align: right;\n",
       "    }\n",
       "</style>\n",
       "<table border=\"1\" class=\"dataframe\">\n",
       "  <thead>\n",
       "    <tr style=\"text-align: right;\">\n",
       "      <th></th>\n",
       "      <th>id</th>\n",
       "      <th>toxic</th>\n",
       "      <th>severe_toxic</th>\n",
       "      <th>obscene</th>\n",
       "      <th>threat</th>\n",
       "      <th>insult</th>\n",
       "      <th>identity_hate</th>\n",
       "    </tr>\n",
       "  </thead>\n",
       "  <tbody>\n",
       "    <tr>\n",
       "      <th>0</th>\n",
       "      <td>0001ea8717f6de06</td>\n",
       "      <td>0.070000</td>\n",
       "      <td>0.000000</td>\n",
       "      <td>0.010000</td>\n",
       "      <td>0.00</td>\n",
       "      <td>0.040000</td>\n",
       "      <td>0.000000</td>\n",
       "    </tr>\n",
       "    <tr>\n",
       "      <th>1</th>\n",
       "      <td>000247e83dcc1211</td>\n",
       "      <td>0.442877</td>\n",
       "      <td>0.000405</td>\n",
       "      <td>0.191429</td>\n",
       "      <td>0.01</td>\n",
       "      <td>0.201587</td>\n",
       "      <td>0.021954</td>\n",
       "    </tr>\n",
       "    <tr>\n",
       "      <th>2</th>\n",
       "      <td>0002f87b16116a7f</td>\n",
       "      <td>0.280000</td>\n",
       "      <td>0.000000</td>\n",
       "      <td>0.060000</td>\n",
       "      <td>0.00</td>\n",
       "      <td>0.060000</td>\n",
       "      <td>0.000000</td>\n",
       "    </tr>\n",
       "    <tr>\n",
       "      <th>3</th>\n",
       "      <td>0003e1cccfd5a40a</td>\n",
       "      <td>0.140000</td>\n",
       "      <td>0.000000</td>\n",
       "      <td>0.050000</td>\n",
       "      <td>0.00</td>\n",
       "      <td>0.020000</td>\n",
       "      <td>0.000000</td>\n",
       "    </tr>\n",
       "    <tr>\n",
       "      <th>4</th>\n",
       "      <td>00059ace3e3e9a53</td>\n",
       "      <td>0.060000</td>\n",
       "      <td>0.000000</td>\n",
       "      <td>0.000000</td>\n",
       "      <td>0.00</td>\n",
       "      <td>0.030000</td>\n",
       "      <td>0.000000</td>\n",
       "    </tr>\n",
       "  </tbody>\n",
       "</table>\n",
       "</div>"
      ],
      "text/plain": [
       "                 id     toxic  severe_toxic   obscene  threat    insult  \\\n",
       "0  0001ea8717f6de06  0.070000      0.000000  0.010000    0.00  0.040000   \n",
       "1  000247e83dcc1211  0.442877      0.000405  0.191429    0.01  0.201587   \n",
       "2  0002f87b16116a7f  0.280000      0.000000  0.060000    0.00  0.060000   \n",
       "3  0003e1cccfd5a40a  0.140000      0.000000  0.050000    0.00  0.020000   \n",
       "4  00059ace3e3e9a53  0.060000      0.000000  0.000000    0.00  0.030000   \n",
       "\n",
       "   identity_hate  \n",
       "0       0.000000  \n",
       "1       0.021954  \n",
       "2       0.000000  \n",
       "3       0.000000  \n",
       "4       0.000000  "
      ]
     },
     "execution_count": 56,
     "metadata": {},
     "output_type": "execute_result"
    }
   ],
   "source": [
    "result_df = pd.concat([test_df['ID'], prediction_df], axis=1)\n",
    "result_df.columns = columns_submission\n",
    "result_df.to_csv('../output/submission_random_forrest.csv', index=False)\n",
    "result_df.head()"
   ]
  }
 ],
 "metadata": {
  "kernelspec": {
   "display_name": "Python 3 (ipykernel)",
   "language": "python",
   "name": "python3"
  },
  "language_info": {
   "codemirror_mode": {
    "name": "ipython",
    "version": 3
   },
   "file_extension": ".py",
   "mimetype": "text/x-python",
   "name": "python",
   "nbconvert_exporter": "python",
   "pygments_lexer": "ipython3",
   "version": "3.9.16"
  }
 },
 "nbformat": 4,
 "nbformat_minor": 5
}
