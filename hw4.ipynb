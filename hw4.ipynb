{
 "cells": [
  {
   "cell_type": "code",
   "execution_count": null,
   "id": "initial_id",
   "metadata": {
    "collapsed": true
   },
   "outputs": [],
   "source": [
    "import matplotlib.pyplot as plt\n",
    "import numpy as np\n",
    "import pandas as pd\n",
    "import nltk\n",
    "from sklearn.feature_extraction.text import TfidfVectorizer"
   ]
  },
  {
   "cell_type": "code",
   "execution_count": null,
   "outputs": [],
   "source": [
    "columns_base = ['id', 'comment_text']\n",
    "columns_type = ['toxic', 'severe_toxic', 'obscene', 'threat', 'insult', 'identity_hate']\n",
    "columns_all = columns_base + columns_type\n",
    "train_df = pd.read_csv('./input/train.csv', usecols=columns_all)\n",
    "test_df = pd.read_csv('./input/test.csv', usecols=columns_base)"
   ],
   "metadata": {
    "collapsed": false
   },
   "id": "58d99ad6b187596e"
  },
  {
   "cell_type": "code",
   "execution_count": null,
   "outputs": [],
   "source": [
    "# CONSTANTS\n",
    "NUM_OF_ROWS = 10_000\n",
    "RANDOM_SAMPLE = False\n",
    "USE_TEST_DATASET = False\n",
    "RUN_FULL_PCA = False"
   ],
   "metadata": {
    "collapsed": false
   },
   "id": "2b86dfd5708ffa2a"
  },
  {
   "cell_type": "markdown",
   "source": [
    "# EDA"
   ],
   "metadata": {
    "collapsed": false
   },
   "id": "d50251314266182e"
  },
  {
   "cell_type": "code",
   "execution_count": null,
   "outputs": [],
   "source": [
    "train_df.head(5)"
   ],
   "metadata": {
    "collapsed": false
   },
   "id": "8aa34835b69adf34"
  },
  {
   "cell_type": "code",
   "execution_count": null,
   "outputs": [],
   "source": [
    "type_count = train_df[columns_type].sum()\n",
    "total_samples = len(train_df)\n",
    "type_percentage = (type_count / total_samples) * 100\n",
    "print(\"Size of train dataset:\")\n",
    "print(train_df.shape)\n",
    "\n",
    "rows_with_all_zeros = train_df[(train_df[columns_type] == 0).all(axis=1)]\n",
    "print(\"\\nCount of rows with all 0 types:\", len(rows_with_all_zeros))\n",
    "\n",
    "percentage_nonzero_types = 1 - (len(rows_with_all_zeros) / len(train_df))\n",
    "print(\"\\nPercentage of rows with at least one non-zero type: {:.2%}\".format(percentage_nonzero_types))\n",
    "\n",
    "class_summary = pd.DataFrame({'Count': type_count, 'Percentage': type_percentage})\n",
    "class_summary['Percentage'] = class_summary['Percentage'].map('{:.2f}%'.format)\n",
    "print(\"\\nSum for each type with added value, percentage and labels:\")\n",
    "print(class_summary)"
   ],
   "metadata": {
    "collapsed": false
   },
   "id": "9e5ccc222539bd37"
  },
  {
   "cell_type": "code",
   "execution_count": null,
   "outputs": [],
   "source": [
    "comments_category = pd.DataFrame({\n",
    "    'Category': ['Good Comments', 'Bad Comments'],\n",
    "    'Count': [len(rows_with_all_zeros), len(train_df) - len(rows_with_all_zeros)]\n",
    "})\n",
    "\n",
    "plt.figure(figsize=(8, 8))\n",
    "plt.pie(comments_category['Count'], labels=comments_category['Category'], autopct='%1.2f%%', startangle=140)\n",
    "plt.title('Distribution of Good and Bad Comments')\n",
    "plt.show()"
   ],
   "metadata": {
    "collapsed": false
   },
   "id": "7d97cd7e651ac749"
  },
  {
   "cell_type": "code",
   "execution_count": null,
   "outputs": [],
   "source": [
    "selected_rows_df = pd.DataFrame(columns=columns_all)\n",
    "type_counts = {}\n",
    "for text_type in columns_type:\n",
    "    mask = (train_df[text_type] == 1) & (train_df[columns_type].sum(axis=1) == 1)\n",
    "    count = mask.sum()\n",
    "    type_counts[text_type] = count\n",
    "    first_appearance = train_df[mask].head(1)\n",
    "    selected_rows_df = pd.concat([selected_rows_df, first_appearance], ignore_index=True)\n",
    "\n",
    "print(\"Count of comments where only a specific type has 1 and others are 0:\")\n",
    "for text_type, count in type_counts.items():\n",
    "    print(f\"{text_type}: {count}\")"
   ],
   "metadata": {
    "collapsed": false
   },
   "id": "82d144a383060d3a"
  },
  {
   "cell_type": "code",
   "execution_count": null,
   "outputs": [],
   "source": [
    "selected_rows_df = pd.DataFrame(columns=columns_all)\n",
    "for text_type in columns_type:\n",
    "    mask = (train_df[text_type] == 1) & (train_df[columns_type].sum(axis=1) == 1)\n",
    "    first_appearance = train_df[mask].head(1)\n",
    "    selected_rows_df = pd.concat([selected_rows_df, first_appearance], ignore_index=True)"
   ],
   "metadata": {
    "collapsed": false
   },
   "id": "3e873a1c7b157735"
  },
  {
   "cell_type": "code",
   "execution_count": null,
   "outputs": [],
   "source": [
    "with pd.option_context('display.max_colwidth', None):\n",
    "  display(selected_rows_df)"
   ],
   "metadata": {
    "collapsed": false
   },
   "id": "ff8e2024d0c593c"
  }
 ],
 "metadata": {
  "kernelspec": {
   "display_name": "Python 3",
   "language": "python",
   "name": "python3"
  },
  "language_info": {
   "codemirror_mode": {
    "name": "ipython",
    "version": 2
   },
   "file_extension": ".py",
   "mimetype": "text/x-python",
   "name": "python",
   "nbconvert_exporter": "python",
   "pygments_lexer": "ipython2",
   "version": "2.7.6"
  }
 },
 "nbformat": 4,
 "nbformat_minor": 5
}
